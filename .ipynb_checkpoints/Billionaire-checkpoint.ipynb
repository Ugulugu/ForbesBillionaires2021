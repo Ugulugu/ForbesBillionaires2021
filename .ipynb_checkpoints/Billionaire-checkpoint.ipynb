{
 "cells": [
  {
   "cell_type": "code",
   "execution_count": 1,
   "id": "6554890d-d57e-4450-b615-1600d447e2a0",
   "metadata": {},
   "outputs": [],
   "source": [
    "# import all necessary libraries\n",
    "import pandas as pd "
   ]
  },
  {
   "cell_type": "code",
   "execution_count": 2,
   "id": "1cdb9deb-c73d-4f86-ad32-7e21bc3d2239",
   "metadata": {},
   "outputs": [
    {
     "data": {
      "text/html": [
       "<div>\n",
       "<style scoped>\n",
       "    .dataframe tbody tr th:only-of-type {\n",
       "        vertical-align: middle;\n",
       "    }\n",
       "\n",
       "    .dataframe tbody tr th {\n",
       "        vertical-align: top;\n",
       "    }\n",
       "\n",
       "    .dataframe thead th {\n",
       "        text-align: right;\n",
       "    }\n",
       "</style>\n",
       "<table border=\"1\" class=\"dataframe\">\n",
       "  <thead>\n",
       "    <tr style=\"text-align: right;\">\n",
       "      <th></th>\n",
       "      <th>Name</th>\n",
       "      <th>NetWorth</th>\n",
       "      <th>Country</th>\n",
       "      <th>Source</th>\n",
       "      <th>Rank</th>\n",
       "      <th>Age</th>\n",
       "      <th>Industry</th>\n",
       "    </tr>\n",
       "  </thead>\n",
       "  <tbody>\n",
       "    <tr>\n",
       "      <th>0</th>\n",
       "      <td>Jeff Bezos</td>\n",
       "      <td>$177 B</td>\n",
       "      <td>United States</td>\n",
       "      <td>Amazon</td>\n",
       "      <td>1</td>\n",
       "      <td>57.0</td>\n",
       "      <td>Technology</td>\n",
       "    </tr>\n",
       "    <tr>\n",
       "      <th>1</th>\n",
       "      <td>Elon Musk</td>\n",
       "      <td>$151 B</td>\n",
       "      <td>United States</td>\n",
       "      <td>Tesla, SpaceX</td>\n",
       "      <td>2</td>\n",
       "      <td>49.0</td>\n",
       "      <td>Automotive</td>\n",
       "    </tr>\n",
       "    <tr>\n",
       "      <th>2</th>\n",
       "      <td>Bernard Arnault &amp; family</td>\n",
       "      <td>$150 B</td>\n",
       "      <td>France</td>\n",
       "      <td>LVMH</td>\n",
       "      <td>3</td>\n",
       "      <td>72.0</td>\n",
       "      <td>Fashion &amp; Retail</td>\n",
       "    </tr>\n",
       "    <tr>\n",
       "      <th>3</th>\n",
       "      <td>Bill Gates</td>\n",
       "      <td>$124 B</td>\n",
       "      <td>United States</td>\n",
       "      <td>Microsoft</td>\n",
       "      <td>4</td>\n",
       "      <td>65.0</td>\n",
       "      <td>Technology</td>\n",
       "    </tr>\n",
       "    <tr>\n",
       "      <th>4</th>\n",
       "      <td>Mark Zuckerberg</td>\n",
       "      <td>$97 B</td>\n",
       "      <td>United States</td>\n",
       "      <td>Facebook</td>\n",
       "      <td>5</td>\n",
       "      <td>36.0</td>\n",
       "      <td>Technology</td>\n",
       "    </tr>\n",
       "  </tbody>\n",
       "</table>\n",
       "</div>"
      ],
      "text/plain": [
       "                       Name NetWorth        Country         Source  Rank  \\\n",
       "0                Jeff Bezos   $177 B  United States         Amazon     1   \n",
       "1                 Elon Musk   $151 B  United States  Tesla, SpaceX     2   \n",
       "2  Bernard Arnault & family   $150 B         France           LVMH     3   \n",
       "3                Bill Gates   $124 B  United States      Microsoft     4   \n",
       "4           Mark Zuckerberg    $97 B  United States       Facebook     5   \n",
       "\n",
       "    Age          Industry  \n",
       "0  57.0        Technology  \n",
       "1  49.0        Automotive  \n",
       "2  72.0  Fashion & Retail  \n",
       "3  65.0        Technology  \n",
       "4  36.0        Technology  "
      ]
     },
     "execution_count": 2,
     "metadata": {},
     "output_type": "execute_result"
    }
   ],
   "source": [
    "# import the data\n",
    "data = pd.read_csv('Billionaire.csv')\n",
    "\n",
    "# show first five rows\n",
    "data.head()"
   ]
  },
  {
   "cell_type": "code",
   "execution_count": 3,
   "id": "9bcc4094-b76f-4fd3-9ae6-abc4799b2489",
   "metadata": {},
   "outputs": [
    {
     "name": "stdout",
     "output_type": "stream",
     "text": [
      "The Billionaire-Dataset has 2755 rows and 7 coloumns.\n"
     ]
    }
   ],
   "source": [
    "# explore the shape of the dataset\n",
    "print('The Billionaire-Dataset has %s rows and %s coloumns.' %(data.shape[0], data.shape[1]))"
   ]
  },
  {
   "cell_type": "code",
   "execution_count": 8,
   "id": "e8d1876d-9715-4df1-80bd-e7f00c2dab85",
   "metadata": {},
   "outputs": [
    {
     "name": "stdout",
     "output_type": "stream",
     "text": [
      "The dataset has 79 missing values!\n"
     ]
    }
   ],
   "source": [
    "# check for missing values \n",
    "missing_values = data.isnull().sum().sum()\n",
    "print('The dataset has %s missing values!' %(missing_values))"
   ]
  },
  {
   "cell_type": "code",
   "execution_count": 9,
   "id": "4dfb22f4-3097-4264-9012-361d4098933f",
   "metadata": {},
   "outputs": [
    {
     "name": "stdout",
     "output_type": "stream",
     "text": [
      "The column Name has 0 missing values!\n",
      "The column NetWorth has 0 missing values!\n",
      "The column Country has 0 missing values!\n",
      "The column Source has 0 missing values!\n",
      "The column Rank has 0 missing values!\n",
      "The column Age has 79 missing values!\n",
      "The column Industry has 0 missing values!\n"
     ]
    }
   ],
   "source": [
    "# lets check all columns for missing values \n",
    "cols = data.columns\n",
    "\n",
    "for col in cols: \n",
    "    col_missing_values = data[col].isnull().sum()\n",
    "    print(f'The column {col} has {col_missing_values} missing values!')"
   ]
  },
  {
   "cell_type": "markdown",
   "id": "ec18a2d8-b162-445c-bc37-fb1b2caf59f9",
   "metadata": {},
   "source": [
    "#### All missing values are in the Age-Column. For that reason, I decided not to do anything with the missing values. \n",
    "#### we can easily work with all the other columns for visualization without any loss of information.  "
   ]
  },
  {
   "cell_type": "code",
   "execution_count": 6,
   "id": "f9107c49-aee2-4681-ab34-55750bfa2da7",
   "metadata": {},
   "outputs": [
    {
     "name": "stderr",
     "output_type": "stream",
     "text": [
      "/var/folders/s4/309fk8t94hn1mrnxyf1l3b580000gn/T/ipykernel_96549/1471840090.py:4: FutureWarning: The default value of regex will change from True to False in a future version. In addition, single character regular expressions will *not* be treated as literal strings when regex=True.\n",
      "  data['NetWorth'] = data['NetWorth'].str.replace(\"$\", \"\")\n"
     ]
    }
   ],
   "source": [
    "# now lets preprocesse the data to make it easier to work with it\n",
    "\n",
    "# Delte substrings in the 'NetWorth'-Column \n",
    "data['NetWorth'] = data['NetWorth'].str.replace(\"$\", \"\")\n",
    "data['NetWorth'] = data['NetWorth'].str.replace(\"B\", \"\")\n",
    "\n",
    "# change the datatype to numeric \n",
    "data['NetWorth'] = pd.to_numeric(data['NetWorth'])\n"
   ]
  },
  {
   "cell_type": "markdown",
   "id": "f86e01be-04e5-4771-887a-c96e9bc14828",
   "metadata": {},
   "source": [
    "## Dive into the dataset"
   ]
  },
  {
   "cell_type": "code",
   "execution_count": 15,
   "id": "dbafa3b4-b263-4ef3-a97a-934d74cd42f1",
   "metadata": {},
   "outputs": [
    {
     "data": {
      "text/plain": [
       "<AxesSubplot:ylabel='NetWorth'>"
      ]
     },
     "execution_count": 16,
     "metadata": {},
     "output_type": "execute_result"
    },
    {
     "data": {
      "image/png": "[encoded data removed]",
      "text/plain": [
       "<Figure size 432x288 with 1 Axes>"
      ]
     },
     "metadata": {
      "needs_background": "light"
     },
     "output_type": "display_data"
    }
   ],
   "source": [
    "group_by_age = data.groupby('NetWorth').size()\n",
    "group_by_age.plot.barh(x=data['Name'], y=data['NetWorth'])"
   ]
  },
  {
   "cell_type": "code",
   "execution_count": null,
   "id": "75a99dc8-d0ad-42b3-8303-52c74ae591b2",
   "metadata": {},
   "outputs": [],
   "source": []
  }
 ],
 "metadata": {
  "kernelspec": {
   "display_name": "Python 3 (ipykernel)",
   "language": "python",
   "name": "python3"
  },
  "language_info": {
   "codemirror_mode": {
    "name": "ipython",
    "version": 3
   },
   "file_extension": ".py",
   "mimetype": "text/x-python",
   "name": "python",
   "nbconvert_exporter": "python",
   "pygments_lexer": "ipython3",
   "version": "3.8.12"
  }
 },
 "nbformat": 4,
 "nbformat_minor": 5
}
